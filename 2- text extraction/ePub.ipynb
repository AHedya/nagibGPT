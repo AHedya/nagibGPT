{
 "cells": [
  {
   "cell_type": "code",
   "execution_count": 2,
   "metadata": {},
   "outputs": [],
   "source": [
    "import ebooklib\n",
    "from ebooklib import epub\n",
    "from bs4 import BeautifulSoup\n",
    "import re\n",
    "import os\n",
    "\n",
    "\n",
    "def extract_arabic_text_from_epub(epub_path):\n",
    "    book = epub.read_epub(epub_path)\n",
    "    arabic_text = []\n",
    "\n",
    "    for item in book.get_items():\n",
    "        if item.get_type() == ebooklib.ITEM_DOCUMENT:\n",
    "            content = item.get_body_content()\n",
    "            soup = BeautifulSoup(content, 'html.parser')\n",
    "\n",
    "            for header in soup.find_all(['header', 'footer', 'nav']):\n",
    "                header.decompose()\n",
    "\n",
    "            for element in soup.find_all(attrs={\"class\": re.compile(r\"header|footer\", re.I)}):\n",
    "                element.decompose()\n",
    "            for element in soup.find_all(attrs={\"id\": re.compile(r\"header|footer\", re.I)}):\n",
    "                element.decompose()\n",
    "\n",
    "            text = soup.get_text()\n",
    "\n",
    "            arabic_pattern = re.compile(r'[\\u0600-\\u06FF]+')\n",
    "            arabic_matches = arabic_pattern.findall(text)\n",
    "            arabic_text.extend(arabic_matches)\n",
    "\n",
    "    return ' '.join(arabic_text)\n",
    "\n",
    "\n",
    "PATH = os.getcwd()\n",
    "\n",
    "with open('./nagib_ds.txt' , 'w+', encoding='utf-8') as fp:\n",
    "    for file in os.listdir(os.path.join(PATH,'ePubs')):\n",
    "        try:\n",
    "            epub_path =os.path.join(PATH,'ePubs' , file)\n",
    "            arabic_text = extract_arabic_text_from_epub(epub_path)\n",
    "            c = 0\n",
    "            for i in arabic_text[600:]:\n",
    "                if i == ' ':\n",
    "                    break\n",
    "                else:\n",
    "                    c+=1\n",
    "            arabic_text = arabic_text[600+c:] + '\\n' #skip first pages , and cut on whole word(space)\n",
    "            fp.write(arabic_text)\n",
    "            \n",
    "            print(file)\n",
    "        except:\n",
    "            continue\n"
   ]
  }
 ],
 "metadata": {
  "kernelspec": {
   "display_name": "SEL_ENV",
   "language": "python",
   "name": "python3"
  },
  "language_info": {
   "codemirror_mode": {
    "name": "ipython",
    "version": 3
   },
   "file_extension": ".py",
   "mimetype": "text/x-python",
   "name": "python",
   "nbconvert_exporter": "python",
   "pygments_lexer": "ipython3",
   "version": "3.11.9"
  }
 },
 "nbformat": 4,
 "nbformat_minor": 2
}
