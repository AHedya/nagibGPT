{
 "cells": [
  {
   "cell_type": "code",
   "execution_count": 1,
   "metadata": {},
   "outputs": [],
   "source": [
    "from tokenizers import (\n",
    "    decoders,\n",
    "    models,\n",
    "    normalizers,\n",
    "    pre_tokenizers,\n",
    "    trainers,\n",
    "    Tokenizer,\n",
    ")\n",
    "import numpy\n",
    "\n",
    "tokenizer = Tokenizer(models.WordPiece(unk_token=\"[UNK]\"))\n",
    "tokenizer.pre_tokenizer = pre_tokenizers.BertPreTokenizer()\n",
    "tokenizer.normalizer = normalizers.BertNormalizer()\n",
    "tokenizer.decoder = decoders.WordPiece(prefix=\"##\")\n",
    "\n",
    "with open('./nagib_ds.txt' , 'r' , encoding = 'utf-8') as fp:\n",
    "    data = fp.read()\n",
    "n=len(data)\n",
    "train_data = data[:int(n*0.9)-3].strip()\n",
    "val_data = data[int(n*0.9)-3:].strip()\n",
    "\n",
    "train_data_iter = iter(train_data.split(' '))"
   ]
  },
  {
   "cell_type": "code",
   "execution_count": 2,
   "metadata": {},
   "outputs": [],
   "source": [
    "special_tokens = [\"[UNK]\", \"[PAD]\", \"[CLS]\", \"[SEP]\", \"[MASK]\"]\n",
    "trainer = trainers.WordPieceTrainer(vocab_size=25_000, special_tokens=special_tokens)"
   ]
  },
  {
   "cell_type": "code",
   "execution_count": 3,
   "metadata": {},
   "outputs": [],
   "source": [
    "tokenizer.train_from_iterator(train_data_iter , trainer=trainer)"
   ]
  },
  {
   "cell_type": "code",
   "execution_count": 52,
   "metadata": {},
   "outputs": [
    {
     "data": {
      "text/plain": [
       "(['راسها',\n",
       "  'في',\n",
       "  'ضيق',\n",
       "  'تمتمت',\n",
       "  'ولكنك',\n",
       "  'تعلم',\n",
       "  'انني',\n",
       "  'لا',\n",
       "  'قاطع',\n",
       "  '##تها',\n",
       "  'بحرارة',\n",
       "  'لا',\n",
       "  'اظنك',\n",
       "  'ترفض',\n",
       "  '##ين',\n",
       "  'مساعدة',\n",
       "  'تافهة',\n",
       "  'من',\n",
       "  'صديق',\n",
       "  'قديم'],\n",
       " 'رأسها في ضيق تمتمت ولكنك تعلم أنني لا قاطعتها بحرارة لا أظنك ترفضين مساعدة تافهة من صديق قديم')"
      ]
     },
     "execution_count": 52,
     "metadata": {},
     "output_type": "execute_result"
    }
   ],
   "source": [
    "x = ' '.join(val_data[:100].split()[:-1])\n",
    "encoding = tokenizer.encode(x)\n",
    "encoding.tokens , x"
   ]
  },
  {
   "cell_type": "code",
   "execution_count": 53,
   "metadata": {},
   "outputs": [
    {
     "data": {
      "text/plain": [
       "(['يدخل',\n",
       "  'شابا',\n",
       "  '##ن',\n",
       "  'في',\n",
       "  'مي',\n",
       "  '##عة',\n",
       "  'الصبا',\n",
       "  'يرتدي',\n",
       "  'اوله',\n",
       "  '##ما',\n",
       "  'قميصا',\n",
       "  'ابيض',\n",
       "  'وبنطلونا',\n",
       "  'رماديا',\n",
       "  'قصيرا',\n",
       "  '،',\n",
       "  'وحذاء',\n",
       "  'من',\n",
       "  'المطاط',\n",
       "  '،'],\n",
       " 'يدخلُ شابَّان في ميعة الصبا يرتدي أولهما قميصًا أبيض وبنطلونًا رماديًّا قصيرًا، وحذاءً من المطاط،')"
      ]
     },
     "execution_count": 53,
     "metadata": {},
     "output_type": "execute_result"
    }
   ],
   "source": [
    "x = ' '.join(train_data[:100].split()[:-1])\n",
    "encoding = tokenizer.encode(x)\n",
    "encoding.tokens , x"
   ]
  },
  {
   "cell_type": "code",
   "execution_count": 51,
   "metadata": {},
   "outputs": [],
   "source": [
    "tokenizer.save('./tokenizer/tokenizer.json')"
   ]
  },
  {
   "cell_type": "code",
   "execution_count": 58,
   "metadata": {},
   "outputs": [
    {
     "data": {
      "text/plain": [
       "(1015682, 1015682)"
      ]
     },
     "execution_count": 58,
     "metadata": {},
     "output_type": "execute_result"
    }
   ],
   "source": [
    "train_encoding = tokenizer.encode(train_data)\n",
    "len(train_encoding.ids) , len(train_encoding)"
   ]
  },
  {
   "cell_type": "code",
   "execution_count": 59,
   "metadata": {},
   "outputs": [
    {
     "data": {
      "text/plain": [
       "(115465, 497849)"
      ]
     },
     "execution_count": 59,
     "metadata": {},
     "output_type": "execute_result"
    }
   ],
   "source": [
    "val_encoding = tokenizer.encode(val_data)\n",
    "len(val_encoding)  , len(val_data)"
   ]
  },
  {
   "cell_type": "code",
   "execution_count": 68,
   "metadata": {},
   "outputs": [],
   "source": [
    "train_ids = numpy.array(train_encoding.ids)\n",
    "val_ids   = numpy.array(val_encoding.ids)\n",
    "train_ids = numpy.array(train_ids, dtype=numpy.uint16)\n",
    "val_ids = numpy.array(val_ids, dtype=numpy.uint16)"
   ]
  },
  {
   "cell_type": "code",
   "execution_count": 69,
   "metadata": {},
   "outputs": [],
   "source": [
    "import os\n",
    "train_ids.tofile('./tokenizer/train.bin')\n",
    "val_ids.tofile('./tokenizer/val.bin')\n"
   ]
  },
  {
   "cell_type": "code",
   "execution_count": 4,
   "metadata": {},
   "outputs": [],
   "source": [
    "from tokenizers import (\n",
    "    decoders,\n",
    "    models,\n",
    "    normalizers,\n",
    "    pre_tokenizers,\n",
    "    trainers,\n",
    "    Tokenizer,\n",
    ")\n",
    "import numpy\n",
    "\n",
    "tokenizer = Tokenizer(models.WordPiece(unk_token=\"[UNK]\"))\n",
    "tokenizer.pre_tokenizer = pre_tokenizers.BertPreTokenizer()\n",
    "tokenizer.normalizer = normalizers.BertNormalizer()\n",
    "tokenizer.decoder = decoders.WordPiece(prefix=\"##\")\n",
    "\n",
    "with open('./nagib_ds.txt' , 'r' , encoding = 'utf-8') as fp:\n",
    "    data = fp.read()\n",
    "n=len(data)\n",
    "train_data = data[:int(n*0.9)-3].strip()\n",
    "val_data = data[int(n*0.9)-3:].strip()\n",
    "\n",
    "train_data_iter = iter(data.split(' '))\n",
    "\n",
    "special_tokens = [\"[UNK]\", \"[PAD]\", \"[CLS]\", \"[SEP]\", \"[MASK]\"]\n",
    "trainer = trainers.WordPieceTrainer(vocab_size=25_000, special_tokens=special_tokens)\n",
    "\n",
    "tokenizer.train_from_iterator(train_data_iter , trainer=trainer)"
   ]
  },
  {
   "cell_type": "code",
   "execution_count": 5,
   "metadata": {},
   "outputs": [],
   "source": [
    "tokenizer.save('./all_in_tokenizer/tokenizer.json')\n",
    "\n",
    "all_in = tokenizer.encode(data)\n",
    "all_in_ids = numpy.array(all_in.ids, dtype=numpy.uint16)\n",
    "all_in_ids.tofile('./all_in_tokenizer/all_in.bin')"
   ]
  },
  {
   "cell_type": "code",
   "execution_count": null,
   "metadata": {},
   "outputs": [],
   "source": []
  }
 ],
 "metadata": {
  "kernelspec": {
   "display_name": "torch-gpu",
   "language": "python",
   "name": "python3"
  },
  "language_info": {
   "codemirror_mode": {
    "name": "ipython",
    "version": 3
   },
   "file_extension": ".py",
   "mimetype": "text/x-python",
   "name": "python",
   "nbconvert_exporter": "python",
   "pygments_lexer": "ipython3",
   "version": "3.11.5"
  }
 },
 "nbformat": 4,
 "nbformat_minor": 2
}
